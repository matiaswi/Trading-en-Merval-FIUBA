{
 "cells": [
  {
   "cell_type": "markdown",
   "metadata": {},
   "source": [
    "### Importación de Librerías:"
   ]
  },
  {
   "cell_type": "code",
   "execution_count": 1,
   "metadata": {},
   "outputs": [],
   "source": [
    "import requests # permite hacer los request (POST/GET, etc.) a la API de InvertirOnline.com\n",
    "import json\n",
    "import csv\n",
    "import numpy as np\n",
    "import os \n",
    "import datetime \n",
    "import pandas as pd\n",
    "import pickle\n",
    "import time\n",
    "import matplotlib.pyplot as plt"
   ]
  },
  {
   "cell_type": "markdown",
   "metadata": {},
   "source": [
    "### Conexión a IOL y Bajada de Datos:"
   ]
  },
  {
   "cell_type": "code",
   "execution_count": 2,
   "metadata": {},
   "outputs": [],
   "source": [
    "# Seleccionamos el período de tiempo del cual bajaremos los datos:\n",
    "\n",
    "fecha_de_inicio_bajada = \"2010-01-01\"  # Desde esta fecha inclusive - FORMATO: Año-Mes-Día\n",
    "fecha_de_final_bajada = \"2022-11-30\"   # Hasta esta fecha NO inclusive - FORMATO: Año-Mes-Día"
   ]
  },
  {
   "cell_type": "code",
   "execution_count": 3,
   "metadata": {},
   "outputs": [],
   "source": [
    "# Creamos el token y pedimos acceso:\n",
    "\n",
    "# ¡¡ TENEMOS QUE INGRESAR NUESTRA CONTRASEÑA !!\n",
    "\n",
    "token = json.loads(requests.post(\n",
    "    url = \"https://api.invertironline.com/token\",\n",
    "    data = {\n",
    "        \"username\":\"_____________\",\n",
    "        \"password\":\"_____________\",\n",
    "        \"grant_type\":\"password\"\n",
    "            }           \n",
    ").text)"
   ]
  },
  {
   "cell_type": "code",
   "execution_count": 4,
   "metadata": {},
   "outputs": [],
   "source": [
    "# Pedimos los Requests a la API y guardamos los datos en la lista 'lista_de_jsons_con_datos_descargados':\n",
    "\n",
    "acciones = {\"ALUA\", \"BBAR\", \"BMA\", \"CEPU\", \"COME\", \"CRES\", \"EDN\",\n",
    "            \"GGAL\", \"HARG\", \"LOMA\", \"MIRG\", \"PAMP\", \"TECO2\", \"TGNO4\", \"TGSU2\",\n",
    "            \"TRAN\", \"TXAR\", \"AGRO\", \"BHIP\", \"BOLT\", \"BPAT\", \"CADO\",\n",
    "            \"CELU\", \"FERR\", \"IRSA\", \"LEDE\", \"LONG\", \"MOLI\", \"SAMI\",\n",
    "            \"SEMI\", \"BRIO\", \"CARC\", \"CECO2\"}\n",
    "\n",
    "lista_de_urls = []\n",
    "lista_de_jsons_con_datos_descargados = []\n",
    "lista_de_titulos_sin_ningun_dato = []\n",
    "\n",
    "for accion in acciones:\n",
    "    url = \"https://api.invertironline.com/api/v2/bCBA/Titulos/{}/Cotizacion/seriehistorica/{}/{}/ajustada\".format(accion, fecha_de_inicio_bajada, fecha_de_final_bajada)\n",
    "    datos_en_formato_json = json.loads( requests.get(url, headers={\"Authorization\":\"Bearer \"+token[\"access_token\"]}).text )\n",
    "\n",
    "    # Anotamos los nombres de las acciones cuyos Requests no devuelven nada:\n",
    "    if len(datos_en_formato_json) != 0:   \n",
    "        datos_en_formato_json [0][\"titulo\"] = accion\n",
    "    else:\n",
    "        lista_de_titulos_sin_ningun_dato.append(accion)\n",
    "    \n",
    "    lista_de_urls.append(url)\n",
    "    lista_de_jsons_con_datos_descargados.append(datos_en_formato_json)"
   ]
  },
  {
   "cell_type": "code",
   "execution_count": 5,
   "metadata": {},
   "outputs": [],
   "source": [
    "# Estructuramos los datos en varios DataFrames (un DataFrame por cada acción) y luego los exportamos todos a un archivo .csv\n",
    "\n",
    "lista_de_dataframes = []\n",
    "for conjunto_de_datos_de_una_accion in lista_de_jsons_con_datos_descargados:\n",
    "    \n",
    "    # Creamos las siguientes listas :\n",
    "    titulo=[]; cierre=[] ; apertura=[]; maximo=[] ;minimo=[]; fecha=[]; volumen=[]\n",
    "    \n",
    "    for j in range(len(conjunto_de_datos_de_una_accion)):\n",
    "        titulo.append (conjunto_de_datos_de_una_accion[0][\"titulo\"])\n",
    "        cierre.append (conjunto_de_datos_de_una_accion[j][\"ultimoPrecio\"]) \n",
    "        apertura.append (conjunto_de_datos_de_una_accion[j][\"apertura\"]) \n",
    "        maximo.append (conjunto_de_datos_de_una_accion[j][\"maximo\"]) \n",
    "        minimo.append (conjunto_de_datos_de_una_accion[j][\"minimo\"]) \n",
    "        fecha.append (conjunto_de_datos_de_una_accion[j][\"fechaHora\"]) \n",
    "        volumen.append (conjunto_de_datos_de_una_accion[j][\"volumenNominal\"])\n",
    "    \n",
    "    df = pd.DataFrame()\n",
    "    df = pd.DataFrame({\n",
    "                    \"titulo\":titulo,\n",
    "                    \"fecha\":fecha,\n",
    "                    \"apertura\":apertura,\n",
    "                    \"cierre\":cierre,\n",
    "                    \"máximo\":maximo,\n",
    "                    \"mínimo\":minimo,\n",
    "                    \"volumen\":volumen})\n",
    "    \n",
    "    # Ordenamos el DataFrame para que queden las fechas de lo más antiguo a lo más reciente:\n",
    "    df = df.iloc[::-1]\n",
    "    df = df.reset_index(drop=True)\n",
    "    \n",
    "    # Guardamos el DataFrame con todos los datos de esa acción en la siguiente lista:\n",
    "    lista_de_dataframes.append(df)\n",
    "    "
   ]
  },
  {
   "cell_type": "code",
   "execution_count": 6,
   "metadata": {},
   "outputs": [],
   "source": [
    "# Creamos un DataFrame que reúna los datos de todas las acciones:\n",
    "\n",
    "df_completo = pd.concat(lista_de_dataframes, ignore_index=False)\n",
    "df_completo = df_completo.reset_index(drop=True)"
   ]
  },
  {
   "cell_type": "code",
   "execution_count": null,
   "metadata": {},
   "outputs": [],
   "source": [
    "# Mostramos en pantalla aquellas acciones de las que no se pudo obtener ningún dato:\n",
    "\n",
    "if len(lista_de_titulos_sin_ningun_dato)!= 0:\n",
    "    print (\"Acciones de las que no se pudo obtener ningún dato:\")\n",
    "    for accion in lista_de_titulos_sin_ningun_dato:\n",
    "        print(\"-\", accion)       \n",
    "        \n",
    "# Mostramos en pantalla la cantidad de acciones que sí se descargaron datos:\n",
    "print (\"\\nLa cantidad de acciones de las que sí se obtuvieron datos de la API es:\",\n",
    "       len(df_completo.titulo.unique()))"
   ]
  },
  {
   "cell_type": "markdown",
   "metadata": {},
   "source": [
    "### Exportación:"
   ]
  },
  {
   "cell_type": "code",
   "execution_count": 8,
   "metadata": {},
   "outputs": [],
   "source": [
    "# Creamos la carpeta donde guardaremos los datos:\n",
    "if not os.path.exists('Datos_descargados'):\n",
    "    os.makedirs('Datos_descargados')\n",
    "\n",
    "# Exportamos a .csv\n",
    "df_completo.to_csv(\"./Datos_descargados/Datos_Completos.csv\",  index = False )"
   ]
  }
 ],
 "metadata": {
  "hide_input": false,
  "kernelspec": {
   "display_name": "Python 3",
   "language": "python",
   "name": "python3"
  },
  "language_info": {
   "codemirror_mode": {
    "name": "ipython",
    "version": 3
   },
   "file_extension": ".py",
   "mimetype": "text/x-python",
   "name": "python",
   "nbconvert_exporter": "python",
   "pygments_lexer": "ipython3",
   "version": "3.8.3"
  },
  "notify_time": "5",
  "toc": {
   "base_numbering": 1,
   "nav_menu": {},
   "number_sections": false,
   "sideBar": true,
   "skip_h1_title": false,
   "title_cell": "Table of Contents",
   "title_sidebar": "Contents",
   "toc_cell": false,
   "toc_position": {
    "height": "calc(100% - 180px)",
    "left": "10px",
    "top": "150px",
    "width": "256px"
   },
   "toc_section_display": true,
   "toc_window_display": false
  },
  "varInspector": {
   "cols": {
    "lenName": 16,
    "lenType": 16,
    "lenVar": 40
   },
   "kernels_config": {
    "python": {
     "delete_cmd_postfix": "",
     "delete_cmd_prefix": "del ",
     "library": "var_list.py",
     "varRefreshCmd": "print(var_dic_list())"
    },
    "r": {
     "delete_cmd_postfix": ") ",
     "delete_cmd_prefix": "rm(",
     "library": "var_list.r",
     "varRefreshCmd": "cat(var_dic_list()) "
    }
   },
   "types_to_exclude": [
    "module",
    "function",
    "builtin_function_or_method",
    "instance",
    "_Feature"
   ],
   "window_display": false
  }
 },
 "nbformat": 4,
 "nbformat_minor": 4
}
